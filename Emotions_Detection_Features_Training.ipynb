{
  "cells": [
    {
      "cell_type": "code",
      "execution_count": 1,
      "metadata": {
        "collapsed": false
      },
      "outputs": [],
      "source": [
        "%matplotlib inline"
      ]
    },
    {
      "cell_type": "code",
      "execution_count": 7,
      "metadata": {},
      "outputs": [],
      "source": [
        "import matplotlib.pyplot as plt\n",
        "from skimage.feature import hog\n",
        "from skimage import data, exposure\n",
        "from commonfunctions import *\n",
        "import numpy as np\n",
        "import skimage.io as io\n",
        "import matplotlib.pyplot as plt\n",
        "import matplotlib.patches as patches\n",
        "from skimage.color import rgb2gray\n",
        "from skimage.morphology import binary_erosion, binary_dilation, binary_closing,skeletonize, thin\n",
        "from skimage.measure import find_contours\n",
        "from skimage.draw import rectangle\n",
        "from skimage.transform import resize\n",
        "import cv2\n",
        "import os\n",
        "from sklearn.svm import  SVC\n",
        "import pickle\n",
        "import matplotlib.pyplot as plt\n",
        "from sklearn.datasets import make_classification\n",
        "from sklearn.metrics import confusion_matrix, ConfusionMatrixDisplay\n",
        "from sklearn.model_selection import train_test_split\n",
        "from sklearn.svm import SVC\n",
        "from sklearn.metrics import accuracy_score\n",
        "from sklearn.discriminant_analysis import LinearDiscriminantAnalysis\n",
        "import matplotlib.pyplot as myplt\n",
        "from sklearn.decomposition import PCA\n",
        "from sklearn.preprocessing import StandardScaler\n",
        "import pandas as pd\n",
        "from keras.preprocessing.image import ImageDataGenerator\n",
        "from tensorflow.keras.utils import array_to_img\n",
        "from tensorflow.keras.utils import img_to_array\n",
        "from tensorflow.keras.utils import load_img"
      ]
    },
    {
      "cell_type": "code",
      "execution_count": null,
      "metadata": {},
      "outputs": [],
      "source": [
        "# Data Augmentation\n",
        "\n",
        "directories = ['test_3/Anger','test_3/Disgust/','test_3/Fear/','test_3/Happiness/','test_3/Neutral/','test_3/Sadness/','test_3/Surprise/']\n",
        "for p in range(7):\n",
        "\n",
        "    directory = directories[p]\n",
        "\n",
        "    for filename in os.listdir(directory):\n",
        "        img_type = filename.split('.')[-1]\n",
        "        f = os.path.join(directory, filename)\n",
        "        # checking if it is a file\n",
        "        if os.path.isfile(f):\n",
        "            img = io.imread(f)\n",
        "            # Initialising the ImageDataGenerator class.\n",
        "            # We will pass in the augmentation parameters in the constructor.\n",
        "            datagen = ImageDataGenerator(\n",
        "                    rotation_range = 5,\n",
        "                    shear_range = 0.2,\n",
        "                    zoom_range = 0.01,\n",
        "                    horizontal_flip = True,\n",
        "                    brightness_range = (0.4, 1.2))\n",
        "            # Converting the input sample image to an array\n",
        "            x = img_to_array(img)\n",
        "            # Reshaping the input image\n",
        "            x = x.reshape((1, ) + x.shape)             \n",
        "            # Generating and saving 5 augmented samples \n",
        "            # using the above defined parameters. \n",
        "            i = 0\n",
        "            for batch in datagen.flow(x, batch_size = 1,\n",
        "                                    save_to_dir =directories[p], \n",
        "                                    save_prefix ='image', save_format ='png'):\n",
        "                i += 1\n",
        "                if p == 4:\n",
        "                    if i > 3:\n",
        "                        break\n",
        "                else : \n",
        "                    if i > 10:\n",
        "                        break"
      ]
    },
    {
      "cell_type": "code",
      "execution_count": 8,
      "metadata": {},
      "outputs": [],
      "source": [
        "# Get Features From Image Using HOG\n",
        "def getFeature (image):\n",
        "    # Detect Face Using OpenCV\n",
        "    face_cascade = cv2.CascadeClassifier('haarcascade_frontalface_default.xml')\n",
        "    faces = face_cascade.detectMultiScale(image, 1.1, 4)\n",
        "    if len(faces) != 0:\n",
        "        for (x, y, w, h) in faces:\n",
        "            image = image[y:y+h,x:x+w]     \n",
        "            # Convert Image TO Gray Image If its RGB Image\n",
        "            if(len(image.shape)==3):\n",
        "                image = rgb2gray(image)\n",
        "            # Convert Float64 to Uint8\n",
        "            if(image.dtype == 'float64'):\n",
        "                image = (image*255).astype('uint8')\n",
        "            if(image.shape[0] != 0 and image.shape[1] != 0):\n",
        "                # Resize Image to make all Images with the same dimensions\n",
        "                image = resize(image, (128, 128))\n",
        "                if(image.dtype == 'float64'):\n",
        "                    image = (image*255).astype('uint8')\n",
        "                if(image.shape[0] != 0 and image.shape[1] !=0):\n",
        "                    # Get HOG Histogram\n",
        "                    fd, hog_image = hog(image, orientations=9, pixels_per_cell=(8, 8),\n",
        "                                        cells_per_block=(2, 2), visualize=True)\n",
        "                    return fd\n",
        "    "
      ]
    },
    {
      "cell_type": "code",
      "execution_count": 9,
      "metadata": {},
      "outputs": [],
      "source": [
        "# Build Feature Matrix\n",
        "def featureMatrix (directory,lable):\n",
        "    X_features = np.zeros([0,8100])\n",
        "    Y_lables = np.zeros([1,0])\n",
        "    i = 0\n",
        "    # Iterate Through Files in this Directiory\n",
        "    for filename in os.listdir(directory):\n",
        "        f = os.path.join(directory, filename)\n",
        "        if os.path.isfile(f):     \n",
        "            # Read Image  \n",
        "            image = io.imread(f)\n",
        "            # Get Features\n",
        "            X_F = getFeature(image=image)\n",
        "            if ( X_F is not None and len(X_F) != 0):\n",
        "                # Append Feature To the matrix\n",
        "                X_features = np.vstack([X_features, X_F])\n",
        "                Y_lables = np.c_[Y_lables,lable]\n",
        "                if(i%100 == 0):\n",
        "                    print(i)\n",
        "                i+=1\n",
        "    print(i)\n",
        "    print(X_features.shape)\n",
        "    print(Y_lables.shape)\n",
        "    return X_features,Y_lables"
      ]
    },
    {
      "cell_type": "code",
      "execution_count": 10,
      "metadata": {},
      "outputs": [
        {
          "name": "stdout",
          "output_type": "stream",
          "text": [
            "0\n",
            "100\n",
            "200\n",
            "300\n",
            "400\n",
            "500\n",
            "600\n",
            "700\n",
            "800\n",
            "900\n",
            "1000\n",
            "1100\n",
            "1200\n",
            "1300\n",
            "1389\n",
            "(1389, 8100)\n",
            "(1, 1389)\n"
          ]
        }
      ],
      "source": [
        "X_Angry , Y_Angry = featureMatrix('train_3/Anger',1)"
      ]
    },
    {
      "cell_type": "code",
      "execution_count": 11,
      "metadata": {},
      "outputs": [
        {
          "name": "stdout",
          "output_type": "stream",
          "text": [
            "0\n",
            "100\n",
            "200\n",
            "300\n",
            "400\n",
            "500\n",
            "600\n",
            "700\n",
            "800\n",
            "900\n",
            "1000\n",
            "1100\n",
            "1200\n",
            "1300\n",
            "1400\n",
            "1500\n",
            "1600\n",
            "1700\n",
            "1704\n",
            "(1704, 8100)\n",
            "(1, 1704)\n"
          ]
        }
      ],
      "source": [
        "X_Disgusted , Y_Disgusted = featureMatrix('train_3/Disgust',2)"
      ]
    },
    {
      "cell_type": "code",
      "execution_count": 12,
      "metadata": {},
      "outputs": [
        {
          "name": "stdout",
          "output_type": "stream",
          "text": [
            "0\n",
            "100\n",
            "200\n",
            "300\n",
            "400\n",
            "500\n",
            "600\n",
            "700\n",
            "800\n",
            "900\n",
            "1000\n",
            "1086\n",
            "(1086, 8100)\n",
            "(1, 1086)\n"
          ]
        }
      ],
      "source": [
        "X_Fearful , Y_Fearful = featureMatrix('train_3/Fear',3)\n"
      ]
    },
    {
      "cell_type": "code",
      "execution_count": 13,
      "metadata": {},
      "outputs": [
        {
          "name": "stdout",
          "output_type": "stream",
          "text": [
            "0\n",
            "100\n",
            "200\n",
            "300\n",
            "400\n",
            "500\n",
            "600\n",
            "700\n",
            "800\n",
            "900\n",
            "1000\n",
            "1100\n",
            "1200\n",
            "1300\n",
            "1322\n",
            "(1322, 8100)\n",
            "(1, 1322)\n"
          ]
        }
      ],
      "source": [
        "X_Happy , Y_Happy = featureMatrix('train_3/Happiness',4)\n"
      ]
    },
    {
      "cell_type": "code",
      "execution_count": 14,
      "metadata": {},
      "outputs": [
        {
          "name": "stdout",
          "output_type": "stream",
          "text": [
            "0\n",
            "100\n",
            "200\n",
            "300\n",
            "400\n",
            "500\n",
            "600\n",
            "700\n",
            "800\n",
            "900\n",
            "1000\n",
            "1100\n",
            "1200\n",
            "1300\n",
            "1400\n",
            "1500\n",
            "1600\n",
            "1700\n",
            "1800\n",
            "1900\n",
            "2000\n",
            "2100\n",
            "2200\n",
            "2300\n",
            "2400\n",
            "2500\n",
            "2567\n",
            "(2567, 8100)\n",
            "(1, 2567)\n"
          ]
        }
      ],
      "source": [
        "X_Neutral , Y_Neutral = featureMatrix('train_3/Neutral',5)\n"
      ]
    },
    {
      "cell_type": "code",
      "execution_count": 15,
      "metadata": {},
      "outputs": [
        {
          "name": "stdout",
          "output_type": "stream",
          "text": [
            "0\n",
            "100\n",
            "200\n",
            "300\n",
            "400\n",
            "500\n",
            "600\n",
            "700\n",
            "800\n",
            "900\n",
            "1000\n",
            "1100\n",
            "1200\n",
            "1203\n",
            "(1203, 8100)\n",
            "(1, 1203)\n"
          ]
        }
      ],
      "source": [
        "X_Sad , Y_Sad = featureMatrix('train_3/Sadness',6)\n"
      ]
    },
    {
      "cell_type": "code",
      "execution_count": 16,
      "metadata": {},
      "outputs": [
        {
          "name": "stdout",
          "output_type": "stream",
          "text": [
            "0\n",
            "100\n",
            "200\n",
            "300\n",
            "400\n",
            "500\n",
            "600\n",
            "700\n",
            "800\n",
            "900\n",
            "1000\n",
            "1100\n",
            "1200\n",
            "1300\n",
            "1400\n",
            "1500\n",
            "1600\n",
            "1700\n",
            "1726\n",
            "(1726, 8100)\n",
            "(1, 1726)\n"
          ]
        }
      ],
      "source": [
        "X_Surprised , Y_Surprised = featureMatrix('train_3/Surprise',7)\n"
      ]
    },
    {
      "cell_type": "code",
      "execution_count": 17,
      "metadata": {},
      "outputs": [
        {
          "name": "stdout",
          "output_type": "stream",
          "text": [
            "(10997, 8100)\n",
            "(1, 10997)\n"
          ]
        }
      ],
      "source": [
        "X_train = np.zeros([0,8100])\n",
        "y_train = np.zeros([1,0])\n",
        "\n",
        "\n",
        "\n",
        "X_train = np.vstack([X_train, X_Angry])\n",
        "y_train = np.c_[y_train,Y_Angry]\n",
        "\n",
        "X_train = np.vstack([X_train, X_Disgusted])\n",
        "y_train = np.c_[y_train,Y_Disgusted]\n",
        "\n",
        "X_train = np.vstack([X_train, X_Fearful])\n",
        "y_train = np.c_[y_train,Y_Fearful]\n",
        "\n",
        "X_train = np.vstack([X_train, X_Happy])\n",
        "y_train = np.c_[y_train,Y_Happy]\n",
        "\n",
        "X_train = np.vstack([X_train, X_Neutral])\n",
        "y_train = np.c_[y_train,Y_Neutral]\n",
        "\n",
        "X_train = np.vstack([X_train, X_Sad])\n",
        "y_train = np.c_[y_train,Y_Sad]\n",
        "\n",
        "X_train = np.vstack([X_train, X_Surprised])\n",
        "y_train = np.c_[y_train,Y_Surprised]\n",
        "\n",
        "print(X_train.shape)\n",
        "print(y_train.shape)"
      ]
    },
    {
      "cell_type": "code",
      "execution_count": 18,
      "metadata": {},
      "outputs": [
        {
          "data": {
            "text/plain": [
              "SVC()"
            ]
          },
          "execution_count": 18,
          "metadata": {},
          "output_type": "execute_result"
        }
      ],
      "source": [
        "# Build and Train Model\n",
        "SVM_Modle = SVC()\n",
        "SVM_Modle.fit(X_train,y_train.ravel())"
      ]
    },
    {
      "cell_type": "code",
      "execution_count": 19,
      "metadata": {},
      "outputs": [
        {
          "name": "stdout",
          "output_type": "stream",
          "text": [
            "Angry : \n",
            "0\n",
            "100\n",
            "200\n",
            "281\n",
            "(281, 8100)\n",
            "(1, 281)\n",
            "Disgusted : \n",
            "0\n",
            "100\n",
            "143\n",
            "(143, 8100)\n",
            "(1, 143)\n",
            "Fearful : \n",
            "0\n",
            "100\n",
            "200\n",
            "258\n",
            "(258, 8100)\n",
            "(1, 258)\n",
            "Happy : \n",
            "0\n",
            "100\n",
            "200\n",
            "233\n",
            "(233, 8100)\n",
            "(1, 233)\n",
            "Neutral : \n",
            "0\n",
            "100\n",
            "200\n",
            "300\n",
            "304\n",
            "(304, 8100)\n",
            "(1, 304)\n",
            "Sad : \n",
            "0\n",
            "100\n",
            "200\n",
            "300\n",
            "303\n",
            "(303, 8100)\n",
            "(1, 303)\n",
            "Surprised : \n",
            "0\n",
            "100\n",
            "200\n",
            "297\n",
            "(297, 8100)\n",
            "(1, 297)\n"
          ]
        }
      ],
      "source": [
        "# Get Test Dataset Features\n",
        "print('Angry : ')\n",
        "X_Angry_test , Y_Angry_test = featureMatrix('test_3/Anger',1)\n",
        "print('Disgusted : ')\n",
        "X_Disgusted_test , Y_Disgusted_test = featureMatrix('test_3/Disgust/',2)\n",
        "print('Fearful : ')\n",
        "X_Fearful_test , Y_Fearful_test = featureMatrix('test_3/Fear/',3)\n",
        "print('Happy : ')\n",
        "X_Happy_test , Y_Happy_test = featureMatrix('test_3/Happiness/',4)\n",
        "print('Neutral : ')\n",
        "X_Neutral_test , Y_Neutral_test = featureMatrix('test_3/Neutral/',5)\n",
        "print('Sad : ')\n",
        "X_Sad_test , Y_Sad_test = featureMatrix('test_3/Sadness/',6)\n",
        "print('Surprised : ')\n",
        "X_Surprised_test , Y_Surprised_test = featureMatrix('test_3/Surprise/',7)\n",
        "\n",
        "\n",
        "X_test = np.zeros([0,8100])\n",
        "y_test = np.zeros([1,0])\n",
        "\n",
        "\n",
        "\n",
        "X_test = np.vstack([X_test, X_Angry_test])\n",
        "y_test = np.c_[y_test,Y_Angry_test]\n",
        "\n",
        "X_test = np.vstack([X_test, X_Disgusted_test])\n",
        "y_test = np.c_[y_test,Y_Disgusted_test]\n",
        "\n",
        "X_test = np.vstack([X_test, X_Fearful_test])\n",
        "y_test = np.c_[y_test,Y_Fearful_test]\n",
        "\n",
        "X_test = np.vstack([X_test, X_Happy_test])\n",
        "y_test = np.c_[y_test,Y_Happy_test]\n",
        "\n",
        "X_test = np.vstack([X_test, X_Neutral_test])\n",
        "y_test = np.c_[y_test,Y_Neutral_test]\n",
        "\n",
        "X_test = np.vstack([X_test, X_Sad_test])\n",
        "y_test = np.c_[y_test,Y_Sad_test]\n",
        "\n",
        "X_test = np.vstack([X_test, X_Surprised_test])\n",
        "y_test = np.c_[y_test,Y_Surprised_test]\n",
        "\n",
        "\n"
      ]
    },
    {
      "cell_type": "code",
      "execution_count": 20,
      "metadata": {},
      "outputs": [
        {
          "name": "stdout",
          "output_type": "stream",
          "text": [
            "(1819, 8100)\n",
            "(1, 1819)\n"
          ]
        }
      ],
      "source": [
        "print(X_test.shape)\n",
        "print(y_test.shape)\n"
      ]
    },
    {
      "cell_type": "code",
      "execution_count": 21,
      "metadata": {},
      "outputs": [],
      "source": [
        "predictions = SVM_Modle.predict(X_test)\n"
      ]
    },
    {
      "cell_type": "code",
      "execution_count": 22,
      "metadata": {},
      "outputs": [
        {
          "data": {
            "image/png": "[encoded data removed]",
            "text/plain": [
              "<Figure size 432x288 with 2 Axes>"
            ]
          },
          "metadata": {
            "needs_background": "light"
          },
          "output_type": "display_data"
        }
      ],
      "source": [
        "# Plot Confusion Matrix\n",
        "cm = confusion_matrix(y_test.ravel(), predictions, labels=SVM_Modle.classes_)\n",
        "disp = ConfusionMatrixDisplay(confusion_matrix=cm,display_labels=SVM_Modle.classes_)\n",
        "disp.plot()\n",
        "plt.show()"
      ]
    },
    {
      "cell_type": "code",
      "execution_count": 23,
      "metadata": {},
      "outputs": [
        {
          "data": {
            "text/plain": [
              "0.8730071467839472"
            ]
          },
          "execution_count": 23,
          "metadata": {},
          "output_type": "execute_result"
        }
      ],
      "source": [
        "# Get Accuracy Of the Model\n",
        "accuracy_score(y_test.ravel(), predictions, normalize=True)"
      ]
    },
    {
      "cell_type": "code",
      "execution_count": 24,
      "metadata": {},
      "outputs": [],
      "source": [
        "LDA = LinearDiscriminantAnalysis()\n",
        "LDA_Transformed = LDA.fit_transform(X_train,y_train.ravel())"
      ]
    },
    {
      "cell_type": "code",
      "execution_count": 25,
      "metadata": {},
      "outputs": [
        {
          "data": {
            "text/plain": [
              "array([0.27111072, 0.2485046 , 0.20769583, 0.1171063 , 0.08897277,\n",
              "       0.06660978])"
            ]
          },
          "execution_count": 25,
          "metadata": {},
          "output_type": "execute_result"
        }
      ],
      "source": [
        "LDA.explained_variance_ratio_"
      ]
    },
    {
      "cell_type": "code",
      "execution_count": 26,
      "metadata": {},
      "outputs": [
        {
          "data": {
            "text/plain": [
              "<matplotlib.collections.PathCollection at 0x1aa0ba5cb50>"
            ]
          },
          "execution_count": 26,
          "metadata": {},
          "output_type": "execute_result"
        },
        {
          "data": {
            "image/png": "[encoded data removed]",
            "text/plain": [
              "<Figure size 432x288 with 1 Axes>"
            ]
          },
          "metadata": {
            "needs_background": "light"
          },
          "output_type": "display_data"
        }
      ],
      "source": [
        "myplt.xlabel('LDA1')\n",
        "myplt.ylabel('LDA2')\n",
        "myplt.scatter(LDA_Transformed[:,0],LDA_Transformed[:,1],c=y_train.ravel() , cmap='rainbow', edgecolors='g')"
      ]
    },
    {
      "cell_type": "code",
      "execution_count": 30,
      "metadata": {},
      "outputs": [],
      "source": [
        "# Save The Model\n",
        "filename = 'model1.sav'\n",
        "pickle.dump(SVM_Modle, open(filename, 'wb'))"
      ]
    },
    {
      "cell_type": "code",
      "execution_count": null,
      "metadata": {},
      "outputs": [],
      "source": []
    }
  ],
  "metadata": {
    "kernelspec": {
      "display_name": "base",
      "language": "python",
      "name": "python3"
    },
    "language_info": {
      "codemirror_mode": {
        "name": "ipython",
        "version": 3
      },
      "file_extension": ".py",
      "mimetype": "text/x-python",
      "name": "python",
      "nbconvert_exporter": "python",
      "pygments_lexer": "ipython3",
      "version": "3.9.12"
    },
    "vscode": {
      "interpreter": {
        "hash": "23bf0724a01b6ea9814e66f76182ea78c0ee849a72ca257c0e116bf83bb4960a"
      }
    }
  },
  "nbformat": 4,
  "nbformat_minor": 0
}
