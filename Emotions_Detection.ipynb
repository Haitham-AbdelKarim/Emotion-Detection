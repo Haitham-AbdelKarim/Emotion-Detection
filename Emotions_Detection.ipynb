{
 "cells": [
  {
   "cell_type": "code",
   "execution_count": 10,
   "metadata": {},
   "outputs": [],
   "source": [
    "import matplotlib.pyplot as plt\n",
    "from skimage.feature import hog\n",
    "from skimage import data, exposure\n",
    "from commonfunctions import *\n",
    "import numpy as np\n",
    "import skimage.io as io\n",
    "import matplotlib.pyplot as plt\n",
    "import matplotlib.patches as patches\n",
    "from skimage.color import rgb2gray\n",
    "from skimage.morphology import binary_erosion, binary_dilation, binary_closing,skeletonize, thin\n",
    "from skimage.measure import find_contours\n",
    "from skimage.draw import rectangle\n",
    "from skimage.transform import resize\n",
    "import cv2\n",
    "import os\n",
    "from sklearn.svm import  SVC\n",
    "import pickle\n",
    "import matplotlib.pyplot as plt\n",
    "from sklearn.datasets import make_classification\n",
    "from sklearn.metrics import confusion_matrix, ConfusionMatrixDisplay\n",
    "from sklearn.model_selection import train_test_split\n",
    "from sklearn.svm import SVC\n",
    "from sklearn.metrics import accuracy_score\n",
    "from sklearn.decomposition import PCA\n",
    "from sklearn.preprocessing import StandardScaler\n",
    "import pandas as pd"
   ]
  },
  {
   "cell_type": "code",
   "execution_count": 2,
   "metadata": {},
   "outputs": [],
   "source": [
    "# Get Features From Image Using HOG\n",
    "def getFeature (image):\n",
    "    # Detect Face Using OpenCV\n",
    "    face_cascade = cv2.CascadeClassifier('haarcascade_frontalface_default.xml')\n",
    "    faces = face_cascade.detectMultiScale(image, 1.1, 4)\n",
    "    if len(faces) != 0:\n",
    "        for (x, y, w, h) in faces:\n",
    "            image = image[y:y+h,x:x+w]     \n",
    "            # Convert Image TO Gray Image If its RGB Image\n",
    "            if(len(image.shape)==3):\n",
    "                image = rgb2gray(image)\n",
    "            # Convert Float64 to Uint8\n",
    "            if(image.dtype == 'float64'):\n",
    "                image = (image*255).astype('uint8')\n",
    "            if(image.shape[0] != 0 and image.shape[1] != 0):\n",
    "                # Resize Image to make all Images with the same dimensions\n",
    "                image = resize(image, (128, 128))\n",
    "                if(image.dtype == 'float64'):\n",
    "                    image = (image*255).astype('uint8')\n",
    "                if(image.shape[0] != 0 and image.shape[1] !=0):\n",
    "                    # Get HOG Histogram\n",
    "                    fd, hog_image = hog(image, orientations=9, pixels_per_cell=(8, 8),\n",
    "                                        cells_per_block=(2, 2), visualize=True)\n",
    "                    return fd\n",
    "    "
   ]
  },
  {
   "cell_type": "code",
   "execution_count": 17,
   "metadata": {},
   "outputs": [],
   "source": [
    "# Load Trained Model\n",
    "filename = 'model1.sav'\n",
    "SVM_Modle = pickle.load(open(filename, 'rb'))"
   ]
  },
  {
   "cell_type": "code",
   "execution_count": 18,
   "metadata": {},
   "outputs": [],
   "source": [
    "# Use Camera\n",
    "\n",
    "# Emotions Labels\n",
    "emotions = ['anger','disgust','fear','happiness','neutral','sadness','surprise']\n",
    "vid = cv2.VideoCapture(0)\n",
    "text = 'not recognized'\n",
    "while(True):\n",
    "    ret, frame = vid.read(0)\n",
    "    # Text Shown in the corner (Predicted Emotion)\n",
    "    cv2.putText(frame, text, (50, 50-10), cv2.FONT_HERSHEY_SIMPLEX, 0.9, (0,0,255), 2)\n",
    "    X = getFeature(image=frame)\n",
    "    if(X is not None):\n",
    "        X = X.reshape(1,-1)\n",
    "        cv2.imshow('frame', frame)\n",
    "        # Get Prediction\n",
    "        predictions = SVM_Modle.predict(X.reshape(1,-1))\n",
    "        text = emotions[int(predictions[0])-1]\n",
    "    if cv2.waitKey(1) & 0xFF == ord('q'):\n",
    "        break\n",
    "  \n",
    "# After the loop release the cap object\n",
    "vid.release()\n",
    "# Destroy all the windows\n",
    "cv2.destroyAllWindows()"
   ]
  },
  {
   "cell_type": "code",
   "execution_count": null,
   "metadata": {},
   "outputs": [],
   "source": []
  }
 ],
 "metadata": {
  "kernelspec": {
   "display_name": "base",
   "language": "python",
   "name": "python3"
  },
  "language_info": {
   "codemirror_mode": {
    "name": "ipython",
    "version": 3
   },
   "file_extension": ".py",
   "mimetype": "text/x-python",
   "name": "python",
   "nbconvert_exporter": "python",
   "pygments_lexer": "ipython3",
   "version": "3.9.12"
  },
  "orig_nbformat": 4,
  "vscode": {
   "interpreter": {
    "hash": "23bf0724a01b6ea9814e66f76182ea78c0ee849a72ca257c0e116bf83bb4960a"
   }
  }
 },
 "nbformat": 4,
 "nbformat_minor": 2
}
